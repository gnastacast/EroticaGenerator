{
 "cells": [
  {
   "cell_type": "code",
   "execution_count": 180,
   "metadata": {
    "collapsed": false
   },
   "outputs": [],
   "source": [
    "%matplotlib inline\n",
    "import os\n",
    "import numpy as np\n",
    "import pandas as pd\n",
    "import cStringIO, urllib\n",
    "import tqdm\n"
   ]
  },
  {
   "cell_type": "code",
   "execution_count": 149,
   "metadata": {
    "collapsed": true
   },
   "outputs": [],
   "source": [
    "# Snagged from Probabilistic-Programming-and-Bayesian-Methods-for-Hackers Ch. 4\n",
    "def intervals(u, d):\n",
    "    a = 1. + u\n",
    "    b = 1. + d\n",
    "    mu = a / (a + b)\n",
    "    std_err = 1.65 * np.sqrt((a * b) / ((a + b) ** 2 * (a + b + 1.)))\n",
    "    return (mu, std_err)\n",
    "\n",
    "def pornPercentage(dataframe):\n",
    "    posterior_mean, std_err = intervals(dataframe['likes'],dataframe['dislikes'])\n",
    "    quality = posterior_mean - std_err\n",
    "    return quality if dataframe['views'] < 10 else quality*(np.log10(dataframe['views']))"
   ]
  },
  {
   "cell_type": "code",
   "execution_count": 239,
   "metadata": {
    "collapsed": true
   },
   "outputs": [],
   "source": [
    "def rgb_to_hsv(arr):\n",
    "    \"\"\"\n",
    "    convert rgb values in a numpy array to hsv values\n",
    "    input and output arrays should have shape (M,N,3)\n",
    "    \"\"\"\n",
    "    arr = arr.astype('float')  # <- add this line\n",
    "    out = np.zeros(arr.shape, dtype=np.float)\n",
    "    arr_max = arr.max(-1)\n",
    "    ipos = arr_max > 0\n",
    "    delta = arr.ptp(-1)\n",
    "    s = np.zeros_like(delta)\n",
    "    s[ipos] = delta[ipos] / arr_max[ipos]\n",
    "    ipos = delta > 0\n",
    "    # red is max\n",
    "    idx = (arr[:, :, 0] == arr_max) & ipos\n",
    "    out[idx, 0] = (arr[idx, 1] - arr[idx, 2]) / delta[idx]\n",
    "    # green is max\n",
    "    idx = (arr[:, :, 1] == arr_max) & ipos\n",
    "    out[idx, 0] = 2. + (arr[idx, 2] - arr[idx, 0]) / delta[idx]\n",
    "    # blue is max\n",
    "    idx = (arr[:, :, 2] == arr_max) & ipos\n",
    "    out[idx, 0] = 4. + (arr[idx, 0] - arr[idx, 1]) / delta[idx]\n",
    "    out[:, :, 0] = (out[:, :, 0] / 6.0) % 1.0\n",
    "    out[:, :, 1] = s\n",
    "    out[:, :, 2] = arr_max\n",
    "    return out"
   ]
  },
  {
   "cell_type": "code",
   "execution_count": 3,
   "metadata": {
    "collapsed": false
   },
   "outputs": [
    {
     "name": "stderr",
     "output_type": "stream",
     "text": [
      "Skipping line 127805: expected 11 fields, saw 14\n",
      "\n",
      "Skipping line 140316: expected 11 fields, saw 14\n",
      "Skipping line 140329: expected 11 fields, saw 14\n",
      "Skipping line 148476: expected 11 fields, saw 14\n",
      "Skipping line 149319: expected 11 fields, saw 14\n",
      "Skipping line 153266: expected 11 fields, saw 14\n",
      "Skipping line 154063: expected 11 fields, saw 14\n",
      "\n",
      "Skipping line 637308: expected 11 fields, saw 14\n",
      "\n",
      "Skipping line 772093: expected 11 fields, saw 14\n",
      "\n",
      "Skipping line 852659: expected 11 fields, saw 14\n",
      "\n",
      "Skipping line 1008972: expected 11 fields, saw 14\n",
      "\n",
      "Skipping line 1328323: expected 11 fields, saw 20\n",
      "\n",
      "Skipping line 1587956: expected 11 fields, saw 14\n",
      "\n",
      "Skipping line 1643203: expected 11 fields, saw 14\n",
      "Skipping line 1658114: expected 11 fields, saw 14\n",
      "\n",
      "Skipping line 1759694: expected 11 fields, saw 14\n",
      "\n",
      "Skipping line 2124713: expected 11 fields, saw 14\n",
      "\n"
     ]
    }
   ],
   "source": [
    "header = ['iframe', 'thumbnail', 'samples', 'title', 'tags', 'more_tags', 'unknown', 'length','views','likes','dislikes']\n",
    "goodcols = ['thumbnail', 'samples', 'title', 'tags', 'views','likes','dislikes']\n",
    "dataTypes = {'title':str,'thumbnail':str, 'samples':str, 'tags':str, 'views': int, 'likes':int, 'dislikes':int}\n",
    "df = pd.read_csv('Data/pornhub.com-db.csv',delimiter='|',names=header,error_bad_lines=False,usecols=goodcols,dtype=dataTypes)"
   ]
  },
  {
   "cell_type": "code",
   "execution_count": 150,
   "metadata": {
    "collapsed": false
   },
   "outputs": [],
   "source": [
    "percents = df.apply(pornPercentage,axis=1)\n",
    "df = pd.concat([df,percents], axis=1)\n",
    "df.drop(df.columns[7],axis=1, inplace=True)\n",
    "df.columns = ['thumbnail', 'samples', 'title', 'tags', 'views','likes','dislikes','quality']"
   ]
  },
  {
   "cell_type": "code",
   "execution_count": 105,
   "metadata": {
    "collapsed": false
   },
   "outputs": [],
   "source": [
    "df.to_msgpack('df.msg')"
   ]
  },
  {
   "cell_type": "code",
   "execution_count": 163,
   "metadata": {
    "collapsed": false
   },
   "outputs": [],
   "source": [
    "df = df.sort_values('quality', ascending=False)"
   ]
  },
  {
   "cell_type": "code",
   "execution_count": null,
   "metadata": {
    "collapsed": false
   },
   "outputs": [
    {
     "name": "stderr",
     "output_type": "stream",
     "text": [
      "|#########-| 442/467  94% [elapsed: 23:25 left: 01:19,  0.31 iters/sec]"
     ]
    }
   ],
   "source": [
    "num_videos = 3600\n",
    "bad_links = []\n",
    "for c in tqdm.tqdm(range(0,num_videos)):\n",
    "    row = df.iloc[c]\n",
    "    urlList = row['samples'].split(';')\n",
    "    oldScore = 0;\n",
    "    bestImage = \"\"\n",
    "    for url in urlList:\n",
    "        try:\n",
    "            file = cStringIO.StringIO(urllib.urlopen(url).read())\n",
    "            image = PIL.Image.open(file)\n",
    "        except IOError:\n",
    "            try:\n",
    "                url = row['thumbnail']\n",
    "                file = cStringIO.StringIO(urllib.urlopen(url).read())\n",
    "                image = PIL.Image.open(file)\n",
    "            except IOError:\n",
    "                bad_links.append(c)\n",
    "                continue\n",
    "        np_image = np.asarray(image)\n",
    "        hsv_image = rgb_to_hsv(np_image)\n",
    "        np_bw_image = hsv_image[:, :, 2]\n",
    "        saturation = 1-np.median(hsv_image[:,:,1])\n",
    "        condition = np_bw_image > 3\n",
    "        std_dev = 1-np.std(np_bw_image)/123.5\n",
    "        mean = abs(np.mean(np_bw_image) -123.5)/123.5\n",
    "        score = 1-(saturation+std_dev+mean)/3\n",
    "        if score>oldScore: \n",
    "            bestUrl = url\n",
    "            oldScore = score\n",
    "    #if score > .3:\n",
    "    #    bestUrl = url\n",
    "    #num = str(c)\n",
    "    #num = num.zfill(7)\n",
    "    #new_filename = 'Images/thumb' + \"_\" + num + \".jpg\"\n",
    "    #urllib.urlretrieve(bestUrl,new_filename)\n",
    "    if score < .3:\n",
    "        num = str(c)\n",
    "        num = num.zfill(7)\n",
    "        new_filename = 'Images/thumb' + \"_\" + num + \".jpg\"\n",
    "        urllib.urlretrieve(bestUrl,new_filename)\n"
   ]
  },
  {
   "cell_type": "code",
   "execution_count": null,
   "metadata": {
    "collapsed": true
   },
   "outputs": [],
   "source": [
    "df_dist = DataFrame(columns = [\"np_image\",\"distance\"])\n",
    "for c in tqdm.tqdm(range(0,num_videos)):\n",
    "    image = PIL.Image.open(file)\n",
    "    image = image.resize((4, 4), PIL.Image.ANTIALIAS)\n",
    "    ycbcr = image.convert('YCbCr')\n",
    "    np_image = np.ndarray((image.size[1], image.size[0], 3), 'u1', ycbcr.tobytes())\n",
    "    #np_image = np.asarray(image)\n",
    "    df_temp = DataFrame([np_image, np.mean(np_image[:,:,0])], columns = [\"np_image\",\"distance\"])\n",
    "    df_dist.append(df_temp)"
   ]
  },
  {
   "cell_type": "code",
   "execution_count": null,
   "metadata": {
    "collapsed": true
   },
   "outputs": [],
   "source": [
    "df_dist.to_msgpack('df_dist.msg')"
   ]
  }
 ],
 "metadata": {
  "kernelspec": {
   "display_name": "Python 2",
   "language": "python",
   "name": "python2"
  },
  "language_info": {
   "codemirror_mode": {
    "name": "ipython",
    "version": 2
   },
   "file_extension": ".py",
   "mimetype": "text/x-python",
   "name": "python",
   "nbconvert_exporter": "python",
   "pygments_lexer": "ipython2",
   "version": "2.7.11"
  }
 },
 "nbformat": 4,
 "nbformat_minor": 0
}
