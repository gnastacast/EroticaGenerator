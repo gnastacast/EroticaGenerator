{
 "cells": [
  {
   "cell_type": "code",
   "execution_count": 180,
   "metadata": {
    "collapsed": false
   },
   "outputs": [],
   "source": [
    "%matplotlib inline\n",
    "import os\n",
    "import numpy as np\n",
    "import pandas as pd\n",
    "import cStringIO, urllib\n",
    "import tqdm\n"
   ]
  },
  {
   "cell_type": "code",
   "execution_count": 149,
   "metadata": {
    "collapsed": true
   },
   "outputs": [],
   "source": [
    "# Snagged from Probabilistic-Programming-and-Bayesian-Methods-for-Hackers Ch. 4\n",
    "def intervals(u, d):\n",
    "    a = 1. + u\n",
    "    b = 1. + d\n",
    "    mu = a / (a + b)\n",
    "    std_err = 1.65 * np.sqrt((a * b) / ((a + b) ** 2 * (a + b + 1.)))\n",
    "    return (mu, std_err)\n",
    "\n",
    "def pornPercentage(dataframe):\n",
    "    posterior_mean, std_err = intervals(dataframe['likes'],dataframe['dislikes'])\n",
    "    quality = posterior_mean - std_err\n",
    "    return quality if dataframe['views'] < 10 else quality*(np.log10(dataframe['views']))"
   ]
  },
  {
   "cell_type": "code",
   "execution_count": 239,
   "metadata": {
    "collapsed": true
   },
   "outputs": [],
   "source": [
    "def rgb_to_hsv(arr):\n",
    "    \"\"\"\n",
    "    convert rgb values in a numpy array to hsv values\n",
    "    input and output arrays should have shape (M,N,3)\n",
    "    \"\"\"\n",
    "    arr = arr.astype('float')  # <- add this line\n",
    "    out = np.zeros(arr.shape, dtype=np.float)\n",
    "    arr_max = arr.max(-1)\n",
    "    ipos = arr_max > 0\n",
    "    delta = arr.ptp(-1)\n",
    "    s = np.zeros_like(delta)\n",
    "    s[ipos] = delta[ipos] / arr_max[ipos]\n",
    "    ipos = delta > 0\n",
    "    # red is max\n",
    "    idx = (arr[:, :, 0] == arr_max) & ipos\n",
    "    out[idx, 0] = (arr[idx, 1] - arr[idx, 2]) / delta[idx]\n",
    "    # green is max\n",
    "    idx = (arr[:, :, 1] == arr_max) & ipos\n",
    "    out[idx, 0] = 2. + (arr[idx, 2] - arr[idx, 0]) / delta[idx]\n",
    "    # blue is max\n",
    "    idx = (arr[:, :, 2] == arr_max) & ipos\n",
    "    out[idx, 0] = 4. + (arr[idx, 0] - arr[idx, 1]) / delta[idx]\n",
    "    out[:, :, 0] = (out[:, :, 0] / 6.0) % 1.0\n",
    "    out[:, :, 1] = s\n",
    "    out[:, :, 2] = arr_max\n",
    "    return out"
   ]
  },
  {
   "cell_type": "code",
   "execution_count": 3,
   "metadata": {
    "collapsed": false
   },
   "outputs": [
    {
     "name": "stderr",
     "output_type": "stream",
     "text": [
      "Skipping line 127805: expected 11 fields, saw 14\n",
      "\n",
      "Skipping line 140316: expected 11 fields, saw 14\n",
      "Skipping line 140329: expected 11 fields, saw 14\n",
      "Skipping line 148476: expected 11 fields, saw 14\n",
      "Skipping line 149319: expected 11 fields, saw 14\n",
      "Skipping line 153266: expected 11 fields, saw 14\n",
      "Skipping line 154063: expected 11 fields, saw 14\n",
      "\n",
      "Skipping line 637308: expected 11 fields, saw 14\n",
      "\n",
      "Skipping line 772093: expected 11 fields, saw 14\n",
      "\n",
      "Skipping line 852659: expected 11 fields, saw 14\n",
      "\n",
      "Skipping line 1008972: expected 11 fields, saw 14\n",
      "\n",
      "Skipping line 1328323: expected 11 fields, saw 20\n",
      "\n",
      "Skipping line 1587956: expected 11 fields, saw 14\n",
      "\n",
      "Skipping line 1643203: expected 11 fields, saw 14\n",
      "Skipping line 1658114: expected 11 fields, saw 14\n",
      "\n",
      "Skipping line 1759694: expected 11 fields, saw 14\n",
      "\n",
      "Skipping line 2124713: expected 11 fields, saw 14\n",
      "\n"
     ]
    }
   ],
   "source": [
    "header = ['iframe', 'thumbnail', 'samples', 'title', 'tags', 'more_tags', 'unknown', 'length','views','likes','dislikes']\n",
    "goodcols = ['thumbnail', 'samples', 'title', 'tags', 'views','likes','dislikes']\n",
    "dataTypes = {'title':str,'thumbnail':str, 'samples':str, 'tags':str, 'views': int, 'likes':int, 'dislikes':int}\n",
    "df = pd.read_csv('Data/pornhub.com-db.csv',delimiter='|',names=header,error_bad_lines=False,usecols=goodcols,dtype=dataTypes)"
   ]
  },
  {
   "cell_type": "code",
   "execution_count": 150,
   "metadata": {
    "collapsed": false
   },
   "outputs": [],
   "source": [
    "percents = df.apply(pornPercentage,axis=1)\n",
    "df = pd.concat([df,percents], axis=1)\n",
    "df.drop(df.columns[7],axis=1, inplace=True)\n",
    "df.columns = ['thumbnail', 'samples', 'title', 'tags', 'views','likes','dislikes','quality']"
   ]
  },
  {
   "cell_type": "code",
   "execution_count": 105,
   "metadata": {
    "collapsed": false
   },
   "outputs": [],
   "source": [
    "df.to_msgpack('df.msg')"
   ]
  },
  {
   "cell_type": "code",
   "execution_count": 163,
   "metadata": {
    "collapsed": false
   },
   "outputs": [],
   "source": [
    "df = df.sort_values('quality', ascending=False)"
   ]
  },
  {
   "cell_type": "code",
   "execution_count": 191,
   "metadata": {
    "collapsed": false
   },
   "outputs": [
    {
     "name": "stderr",
     "output_type": "stream",
     "text": [
      "|----------| 1658/36000   4% [elapsed: 04:49 left: 1:39:59,  5.72 iters/sec]"
     ]
    },
    {
     "ename": "IOError",
     "evalue": "cannot identify image file <cStringIO.StringI object at 0x00000000C54B1C68>",
     "output_type": "error",
     "traceback": [
      "\u001b[1;31m---------------------------------------------------------------------------\u001b[0m",
      "\u001b[1;31mIOError\u001b[0m                                   Traceback (most recent call last)",
      "\u001b[1;32m<ipython-input-191-078bcdc326c6>\u001b[0m in \u001b[0;36m<module>\u001b[1;34m()\u001b[0m\n\u001b[0;32m      9\u001b[0m     \u001b[0murl\u001b[0m \u001b[1;33m=\u001b[0m \u001b[0mrow\u001b[0m\u001b[1;33m[\u001b[0m\u001b[1;34m'thumbnail'\u001b[0m\u001b[1;33m]\u001b[0m\u001b[1;33m\u001b[0m\u001b[0m\n\u001b[0;32m     10\u001b[0m     \u001b[0mfile\u001b[0m \u001b[1;33m=\u001b[0m \u001b[0mcStringIO\u001b[0m\u001b[1;33m.\u001b[0m\u001b[0mStringIO\u001b[0m\u001b[1;33m(\u001b[0m\u001b[0murllib\u001b[0m\u001b[1;33m.\u001b[0m\u001b[0murlopen\u001b[0m\u001b[1;33m(\u001b[0m\u001b[0murl\u001b[0m\u001b[1;33m)\u001b[0m\u001b[1;33m.\u001b[0m\u001b[0mread\u001b[0m\u001b[1;33m(\u001b[0m\u001b[1;33m)\u001b[0m\u001b[1;33m)\u001b[0m\u001b[1;33m\u001b[0m\u001b[0m\n\u001b[1;32m---> 11\u001b[1;33m     \u001b[0mimage\u001b[0m \u001b[1;33m=\u001b[0m \u001b[0mPIL\u001b[0m\u001b[1;33m.\u001b[0m\u001b[0mImage\u001b[0m\u001b[1;33m.\u001b[0m\u001b[0mopen\u001b[0m\u001b[1;33m(\u001b[0m\u001b[0mfile\u001b[0m\u001b[1;33m)\u001b[0m\u001b[1;33m\u001b[0m\u001b[0m\n\u001b[0m\u001b[0;32m     12\u001b[0m     \u001b[0mnum\u001b[0m \u001b[1;33m=\u001b[0m \u001b[0mstr\u001b[0m\u001b[1;33m(\u001b[0m\u001b[0mc\u001b[0m\u001b[1;33m)\u001b[0m\u001b[1;33m\u001b[0m\u001b[0m\n\u001b[0;32m     13\u001b[0m     \u001b[0mnum\u001b[0m \u001b[1;33m=\u001b[0m \u001b[0mnum\u001b[0m\u001b[1;33m.\u001b[0m\u001b[0mzfill\u001b[0m\u001b[1;33m(\u001b[0m\u001b[1;36m7\u001b[0m\u001b[1;33m)\u001b[0m\u001b[1;33m\u001b[0m\u001b[0m\n",
      "\u001b[1;32mC:\\Anaconda2\\lib\\site-packages\\PIL\\Image.pyc\u001b[0m in \u001b[0;36mopen\u001b[1;34m(fp, mode)\u001b[0m\n\u001b[0;32m   2284\u001b[0m \u001b[1;33m\u001b[0m\u001b[0m\n\u001b[0;32m   2285\u001b[0m     raise IOError(\"cannot identify image file %r\"\n\u001b[1;32m-> 2286\u001b[1;33m                   % (filename if filename else fp))\n\u001b[0m\u001b[0;32m   2287\u001b[0m \u001b[1;33m\u001b[0m\u001b[0m\n\u001b[0;32m   2288\u001b[0m \u001b[1;31m#\u001b[0m\u001b[1;33m\u001b[0m\u001b[1;33m\u001b[0m\u001b[0m\n",
      "\u001b[1;31mIOError\u001b[0m: cannot identify image file <cStringIO.StringI object at 0x00000000C54B1C68>"
     ]
    }
   ],
   "source": [
    "counter = 0\n",
    "thumbs = []\n",
    "\n",
    "start = 0\n",
    "number = 36000\n",
    "\n",
    "for c in tqdm.tqdm(range(start,start+number)):\n",
    "    row = df.iloc[c]\n",
    "    url = row['thumbnail']\n",
    "    file = cStringIO.StringIO(urllib.urlopen(url).read())\n",
    "    image = PIL.Image.open(file)\n",
    "    bw_image = image.convert('L')\n",
    "    num = str(c)\n",
    "    num = num.zfill(7)\n",
    "    new_filename = 'Images/thumb' + \"_\" + num + \".jpg\"\n",
    "    urllib.urlretrieve(df.iloc[c]['thumbnail'],new_filename)\n",
    "    image = image.resize((4, 4), PIL.Image.ANTIALIAS)\n",
    "    ycbcr = image.convert('YCbCr')\n",
    "    np_image = np.ndarray((image.size[1], image.size[0], 3), 'u1', ycbcr.tobytes())\n",
    "    #np_image = np.asarray(image)\n",
    "    thumbs.append(np_image)\n",
    "    \n",
    "np.save('thumbnails.np',thumbs)\n",
    "\n",
    "counter = 0\n",
    "fig, axes = plt.subplots(nrows=len(thumbs), ncols=2,figsize=(10, 200))\n",
    "for img in thumbs:\n",
    "    axes[counter,0].imshow(img)\n",
    "    axes[counter,0].axis('off')\n",
    "    idx = counter+start\n",
    "    text = df.iloc[idx]['title'].decode('utf-8').strip()+\"\\nViews: \" + str(df.iloc[idx]['views']) + \" Quality:\" + str(df.iloc[idx]['quality'])\n",
    "    axes[counter,1].text(0,0,text,fontsize=12)\n",
    "    axes[counter,1].axis('off')\n",
    "    counter+=1"
   ]
  },
  {
   "cell_type": "code",
   "execution_count": 148,
   "metadata": {
    "collapsed": false
   },
   "outputs": [
    {
     "data": {
      "text/plain": [
       "Index([u'thumbnail', u'samples', u'title', u'tags', u'views', u'likes',\n",
       "       u'dislikes', u'quality'],\n",
       "      dtype='object')"
      ]
     },
     "execution_count": 148,
     "metadata": {},
     "output_type": "execute_result"
    }
   ],
   "source": [
    "df.columns"
   ]
  },
  {
   "cell_type": "code",
   "execution_count": null,
   "metadata": {
    "collapsed": false
   },
   "outputs": [
    {
     "name": "stderr",
     "output_type": "stream",
     "text": [
      "|----------| 192/34321   0% [elapsed: 07:03 left: 20:55:04,  0.45 iters/sec]"
     ]
    }
   ],
   "source": [
    "num_videos = 36000\n",
    "counter = 0\n",
    "thumb_nps = []\n",
    "#fig, axes = plt.subplots(nrows=num_videos, ncols=2,figsize=(10, num_videos*4))\n",
    "for c in tqdm.tqdm(range(1679,num_videos)):\n",
    "    row = df.iloc[c]\n",
    "    urlList = row['samples'].split(';')\n",
    "    oldScore = 0;\n",
    "    bestImage = \"\"\n",
    "    for url in urlList:\n",
    "        file = cStringIO.StringIO(urllib.urlopen(url).read())\n",
    "        image = PIL.Image.open(file)\n",
    "        np_image = np.asarray(image)\n",
    "        hsv_image = rgb_to_hsv(np_image)\n",
    "        np_bw_image = hsv_image[:, :, 2]\n",
    "        saturation = 1-np.median(hsv_image[:,:,1])\n",
    "        condition = np_bw_image > 3\n",
    "        std_dev = 1-np.std(np_bw_image)/123.5\n",
    "        mean = abs(np.mean(np_bw_image) -123.5)/123.5\n",
    "        score = 1-(saturation+std_dev+mean)/3\n",
    "        if score>oldScore: \n",
    "            bestUrl = url\n",
    "            #text = \"std dev: \" + str(std_dev) + \"\\nmean: \" + str(mean) + \"\\nsaturation: \" + str(saturation)\n",
    "            #text += \"\\n\\nScore: \" + str(score) \n",
    "            oldScore = score\n",
    "    if score > .5:\n",
    "        bestUrl = url\n",
    "    num = str(c)\n",
    "    num = num.zfill(7)\n",
    "    new_filename = 'Images/thumb' + \"_\" + num + \".jpg\"\n",
    "    urllib.urlretrieve(url,new_filename)\n",
    "    #axes[counter,0].imshow(bestImage)\n",
    "    #axes[counter,0].axis('off')\n",
    "    #axes[counter,1].text(0,0,text,fontsize=12)\n",
    "    #axes[counter,1].axis('off')\n"
   ]
  },
  {
   "cell_type": "code",
   "execution_count": null,
   "metadata": {
    "collapsed": true
   },
   "outputs": [],
   "source": [
    "\n",
    "    bestImage = bestImage.resize((4, 4), PIL.Image.ANTIALIAS)\n",
    "    ycbcr = bestImage.convert('YCbCr')\n",
    "    np_image = np.ndarray((bestImage.size[1], bestImage.size[0], 3), 'u1', ycbcr.tobytes())\n",
    "    #np_image = np.asarray(image)\n",
    "    thumb_nps.append(np_image)\n",
    "    \n",
    "np.save('thumbnails.np',thumb_nps)"
   ]
  },
  {
   "cell_type": "code",
   "execution_count": 268,
   "metadata": {
    "collapsed": false
   },
   "outputs": [
    {
     "name": "stdout",
     "output_type": "stream",
     "text": [
      "Nothing Like A Good Old Mature German Threesome\n"
     ]
    }
   ],
   "source": [
    "c=1660\n",
    "row = df.iloc[c]\n",
    "urlList = row['title'].split(';')\n",
    "for url in urlList:\n",
    "    print(url)"
   ]
  },
  {
   "cell_type": "code",
   "execution_count": null,
   "metadata": {
    "collapsed": true
   },
   "outputs": [],
   "source": []
  }
 ],
 "metadata": {
  "kernelspec": {
   "display_name": "Python 2",
   "language": "python",
   "name": "python2"
  },
  "language_info": {
   "codemirror_mode": {
    "name": "ipython",
    "version": 2
   },
   "file_extension": ".py",
   "mimetype": "text/x-python",
   "name": "python",
   "nbconvert_exporter": "python",
   "pygments_lexer": "ipython2",
   "version": "2.7.11"
  }
 },
 "nbformat": 4,
 "nbformat_minor": 0
}
